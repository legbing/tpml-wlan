{
 "cells": [
  {
   "cell_type": "code",
   "execution_count": 17,
   "id": "2c09b409",
   "metadata": {},
   "outputs": [],
   "source": [
    "import numpy as np\n",
    "import pandas as pd\n",
    "import matplotlib.pyplot as plt\n",
    "from sklearn.preprocessing import scale \n",
    "from sklearn import model_selection\n",
    "from sklearn.model_selection import RepeatedKFold\n",
    "from sklearn.model_selection import train_test_split\n",
    "from sklearn.decomposition import PCA\n",
    "from sklearn.linear_model import LinearRegression\n",
    "from sklearn.metrics import mean_squared_error\n",
    "dataset = pd.read_csv(\"/Users/varunsatheesh/Downloads/fin-dataset_2.csv\")\n",
    "X = dataset[['node_type','wlan_code_index','x(m)','y(m)','primary_channel','min_channel_allowed','max_channel_allowed','RSSI','SINR','average_airtime','average_interference']].values\n",
    "y = dataset['throughput'].values"
   ]
  },
  {
   "cell_type": "code",
   "execution_count": 35,
   "id": "35e19155",
   "metadata": {},
   "outputs": [
    {
     "data": {
      "text/plain": [
       "Text(0.5, 1.0, 'hp')"
      ]
     },
     "execution_count": 35,
     "metadata": {},
     "output_type": "execute_result"
    },
    {
     "data": {
      "image/png": "[encoded data removed]",
      "text/plain": [
       "<Figure size 432x288 with 1 Axes>"
      ]
     },
     "metadata": {
      "needs_background": "light"
     },
     "output_type": "display_data"
    }
   ],
   "source": [
    "pca = PCA(n_components=5)\n",
    "X_reduced = pca.fit_transform(scale(X))\n",
    "\n",
    "#define cross validation method\n",
    "cv = RepeatedKFold(n_splits=10, n_repeats=3, random_state=1)\n",
    "\n",
    "regr = LinearRegression()\n",
    "mse = []\n",
    "\n",
    "# Calculate MSE with only the intercept\n",
    "score = -1*model_selection.cross_val_score(regr,\n",
    "           np.ones((len(X_reduced),1)), y, cv=cv,\n",
    "           scoring='neg_mean_squared_error').mean()    \n",
    "mse.append(score)\n",
    "\n",
    "# Calculate MSE using cross-validation, adding one component at a time\n",
    "for i in np.arange(1, 11):\n",
    "    score = -1*model_selection.cross_val_score(regr,\n",
    "               X_reduced[:,:i], y, cv=cv, scoring='neg_mean_squared_error').mean()\n",
    "    mse.append(score)\n",
    "    \n",
    "# Plot cross-validation results    \n",
    "plt.plot(mse)\n",
    "plt.xlabel('Number of Principal Components')\n",
    "plt.ylabel('MSE')\n",
    "plt.title('hp')"
   ]
  },
  {
   "cell_type": "code",
   "execution_count": 36,
   "id": "656db211",
   "metadata": {},
   "outputs": [
    {
     "data": {
      "text/plain": [
       "array([26.74, 46.09, 62.55, 76.62, 85.65])"
      ]
     },
     "execution_count": 36,
     "metadata": {},
     "output_type": "execute_result"
    }
   ],
   "source": [
    "np.cumsum(np.round(pca.explained_variance_ratio_, decimals=4)*100)"
   ]
  },
  {
   "cell_type": "code",
   "execution_count": 37,
   "id": "b6fd63c2",
   "metadata": {},
   "outputs": [
    {
     "name": "stdout",
     "output_type": "stream",
     "text": [
      "5\n",
      "0.8954312391535744\n"
     ]
    },
    {
     "data": {
      "text/plain": [
       "40.2096"
      ]
     },
     "execution_count": 37,
     "metadata": {},
     "output_type": "execute_result"
    }
   ],
   "source": [
    "#split the dataset into training (70%) and testing (30%) sets\n",
    "X_train,X_test,y_train,y_test = train_test_split(X,y,test_size=0.3,random_state=0) \n",
    "\n",
    "#scale the training and testing data\n",
    "X_reduced_train = pca.fit_transform(scale(X_train))\n",
    "X_reduced_test = pca.transform(scale(X_test))\n",
    "print (len(X_reduced_test[0]))\n",
    "\n",
    "from sklearn.ensemble import RandomForestRegressor\n",
    " \n",
    " # create regressor object\n",
    "regressor = RandomForestRegressor(n_estimators = 100, random_state = 0)\n",
    " \n",
    "# fit the regressor with x and y data\n",
    "model=regressor.fit(X_reduced_train,y_train) \n",
    "#model.score(X_reduced_train,y_test)\n",
    "#train PCR model on training data \n",
    "\n",
    "print(model.score(X_reduced_test,y_test))\n",
    "\n",
    "#calculate RMSE\n",
    "pred = model.predict(X_reduced_test)\n",
    "np.sqrt(mean_squared_error(y_test, pred))\n",
    "\n",
    "40.2096"
   ]
  },
  {
   "cell_type": "code",
   "execution_count": null,
   "id": "30f92324",
   "metadata": {},
   "outputs": [],
   "source": []
  },
  {
   "cell_type": "code",
   "execution_count": null,
   "id": "5f7e2e01",
   "metadata": {},
   "outputs": [],
   "source": []
  },
  {
   "cell_type": "code",
   "execution_count": null,
   "id": "bdb560ef",
   "metadata": {},
   "outputs": [],
   "source": []
  }
 ],
 "metadata": {
  "kernelspec": {
   "display_name": "Python 3 (ipykernel)",
   "language": "python",
   "name": "python3"
  },
  "language_info": {
   "codemirror_mode": {
    "name": "ipython",
    "version": 3
   },
   "file_extension": ".py",
   "mimetype": "text/x-python",
   "name": "python",
   "nbconvert_exporter": "python",
   "pygments_lexer": "ipython3",
   "version": "3.7.0"
  }
 },
 "nbformat": 4,
 "nbformat_minor": 5
}
