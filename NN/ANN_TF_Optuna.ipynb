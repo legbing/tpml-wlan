{
  "nbformat": 4,
  "nbformat_minor": 0,
  "metadata": {
    "colab": {
      "name": "ANN_TF_Optuna.ipynb",
      "provenance": []
    },
    "kernelspec": {
      "name": "python3",
      "display_name": "Python 3"
    },
    "language_info": {
      "name": "python"
    },
    "accelerator": "GPU",
    "gpuClass": "standard"
  },
  "cells": [
    {
      "cell_type": "code",
      "source": [
        "!pip install optuna"
      ],
      "metadata": {
        "colab": {
          "base_uri": "https://localhost:8080/"
        },
        "id": "554Zzp_EwJnH",
        "outputId": "764d24dd-db21-4e0c-97d5-182be1c9ccd5"
      },
      "execution_count": null,
      "outputs": [
        {
          "output_type": "stream",
          "name": "stdout",
          "text": [
            "Looking in indexes: https://pypi.org/simple, https://us-python.pkg.dev/colab-wheels/public/simple/\n",
            "Collecting optuna\n",
            "  Downloading optuna-2.10.1-py3-none-any.whl (308 kB)\n",
            "\u001b[K     |████████████████████████████████| 308 kB 19.1 MB/s \n",
            "\u001b[?25hCollecting alembic\n",
            "  Downloading alembic-1.8.1-py3-none-any.whl (209 kB)\n",
            "\u001b[K     |████████████████████████████████| 209 kB 61.8 MB/s \n",
            "\u001b[?25hRequirement already satisfied: packaging>=20.0 in /usr/local/lib/python3.7/dist-packages (from optuna) (21.3)\n",
            "Collecting cliff\n",
            "  Downloading cliff-3.10.1-py3-none-any.whl (81 kB)\n",
            "\u001b[K     |████████████████████████████████| 81 kB 10.2 MB/s \n",
            "\u001b[?25hRequirement already satisfied: sqlalchemy>=1.1.0 in /usr/local/lib/python3.7/dist-packages (from optuna) (1.4.39)\n",
            "Requirement already satisfied: scipy!=1.4.0 in /usr/local/lib/python3.7/dist-packages (from optuna) (1.7.3)\n",
            "Requirement already satisfied: numpy in /usr/local/lib/python3.7/dist-packages (from optuna) (1.21.6)\n",
            "Collecting cmaes>=0.8.2\n",
            "  Downloading cmaes-0.8.2-py3-none-any.whl (15 kB)\n",
            "Requirement already satisfied: PyYAML in /usr/local/lib/python3.7/dist-packages (from optuna) (3.13)\n",
            "Requirement already satisfied: tqdm in /usr/local/lib/python3.7/dist-packages (from optuna) (4.64.0)\n",
            "Collecting colorlog\n",
            "  Downloading colorlog-6.6.0-py2.py3-none-any.whl (11 kB)\n",
            "Requirement already satisfied: pyparsing!=3.0.5,>=2.0.2 in /usr/local/lib/python3.7/dist-packages (from packaging>=20.0->optuna) (3.0.9)\n",
            "Requirement already satisfied: importlib-metadata in /usr/local/lib/python3.7/dist-packages (from sqlalchemy>=1.1.0->optuna) (4.12.0)\n",
            "Requirement already satisfied: greenlet!=0.4.17 in /usr/local/lib/python3.7/dist-packages (from sqlalchemy>=1.1.0->optuna) (1.1.2)\n",
            "Collecting Mako\n",
            "  Downloading Mako-1.2.1-py3-none-any.whl (78 kB)\n",
            "\u001b[K     |████████████████████████████████| 78 kB 3.4 MB/s \n",
            "\u001b[?25hRequirement already satisfied: importlib-resources in /usr/local/lib/python3.7/dist-packages (from alembic->optuna) (5.9.0)\n",
            "Collecting cmd2>=1.0.0\n",
            "  Downloading cmd2-2.4.2-py3-none-any.whl (147 kB)\n",
            "\u001b[K     |████████████████████████████████| 147 kB 49.4 MB/s \n",
            "\u001b[?25hCollecting pbr!=2.1.0,>=2.0.0\n",
            "  Downloading pbr-5.9.0-py2.py3-none-any.whl (112 kB)\n",
            "\u001b[K     |████████████████████████████████| 112 kB 13.1 MB/s \n",
            "\u001b[?25hCollecting autopage>=0.4.0\n",
            "  Downloading autopage-0.5.1-py3-none-any.whl (29 kB)\n",
            "Requirement already satisfied: PrettyTable>=0.7.2 in /usr/local/lib/python3.7/dist-packages (from cliff->optuna) (3.3.0)\n",
            "Collecting stevedore>=2.0.1\n",
            "  Downloading stevedore-3.5.0-py3-none-any.whl (49 kB)\n",
            "\u001b[K     |████████████████████████████████| 49 kB 6.7 MB/s \n",
            "\u001b[?25hCollecting pyperclip>=1.6\n",
            "  Downloading pyperclip-1.8.2.tar.gz (20 kB)\n",
            "Requirement already satisfied: attrs>=16.3.0 in /usr/local/lib/python3.7/dist-packages (from cmd2>=1.0.0->cliff->optuna) (22.1.0)\n",
            "Requirement already satisfied: typing-extensions in /usr/local/lib/python3.7/dist-packages (from cmd2>=1.0.0->cliff->optuna) (4.1.1)\n",
            "Requirement already satisfied: wcwidth>=0.1.7 in /usr/local/lib/python3.7/dist-packages (from cmd2>=1.0.0->cliff->optuna) (0.2.5)\n",
            "Requirement already satisfied: zipp>=0.5 in /usr/local/lib/python3.7/dist-packages (from importlib-metadata->sqlalchemy>=1.1.0->optuna) (3.8.1)\n",
            "Requirement already satisfied: MarkupSafe>=0.9.2 in /usr/local/lib/python3.7/dist-packages (from Mako->alembic->optuna) (2.0.1)\n",
            "Building wheels for collected packages: pyperclip\n",
            "  Building wheel for pyperclip (setup.py) ... \u001b[?25l\u001b[?25hdone\n",
            "  Created wheel for pyperclip: filename=pyperclip-1.8.2-py3-none-any.whl size=11137 sha256=07825e96fdeb868a4a6357b5b4b09e129d69f39d74cf7ee74837eb61a7182b87\n",
            "  Stored in directory: /root/.cache/pip/wheels/9f/18/84/8f69f8b08169c7bae2dde6bd7daf0c19fca8c8e500ee620a28\n",
            "Successfully built pyperclip\n",
            "Installing collected packages: pyperclip, pbr, stevedore, Mako, cmd2, autopage, colorlog, cmaes, cliff, alembic, optuna\n",
            "Successfully installed Mako-1.2.1 alembic-1.8.1 autopage-0.5.1 cliff-3.10.1 cmaes-0.8.2 cmd2-2.4.2 colorlog-6.6.0 optuna-2.10.1 pbr-5.9.0 pyperclip-1.8.2 stevedore-3.5.0\n"
          ]
        }
      ]
    },
    {
      "cell_type": "code",
      "source": [
        "from __future__ import print_function, division\n",
        "import os\n",
        "import torch as T\n",
        "import pandas as pd\n",
        "import numpy as np\n",
        "import matplotlib.pyplot as plt\n",
        "from torch.utils.data import Dataset, DataLoader\n",
        "import torch.nn as nn\n",
        "import torch.nn.functional as F\n",
        "import torch.optim as optim\n",
        "import torch.utils.data\n",
        "from torchvision import datasets\n",
        "from torchvision import transforms\n",
        "from torchvision import transforms, utils\n",
        "from torch import nn\n",
        "from sklearn.preprocessing import StandardScaler\n",
        "#import optuna\n",
        "#from optuna.trial import TrialState\n",
        "from sklearn.model_selection import train_test_split\n",
        "\n",
        "\n",
        "# Ignore warnings\n",
        "import warnings\n",
        "warnings.filterwarnings(\"ignore\")"
      ],
      "metadata": {
        "id": "u4DSYZhIwEI5"
      },
      "execution_count": 1,
      "outputs": []
    },
    {
      "cell_type": "code",
      "source": [
        "df_full = pd.read_csv(\"full_dataset_with_int_map.csv\", index_col=None)\n",
        "X = df_full.iloc[:, 1:22]\n",
        "y = df_full.loc[:, \"throughput\"]"
      ],
      "metadata": {
        "id": "XwNJ1sz3o6ia"
      },
      "execution_count": 2,
      "outputs": []
    },
    {
      "cell_type": "code",
      "source": [
        "data = pd.read_csv('fin-train.csv',delimiter=',')#Enter the location of the preprocessed training data\n",
        "\n",
        "X = data.loc[:, ['wlan_code_index','node_type','x(m)','y(m)','primary_channel','min_channel_allowed',\n",
        "                       'max_channel_allowed','RSSI','SINR','average_airtime', 'average_interference']].values\n",
        "y = data.loc[:,\"throughput\"].values\n"
      ],
      "metadata": {
        "id": "7_1E6S8oy16y"
      },
      "execution_count": 13,
      "outputs": []
    },
    {
      "cell_type": "code",
      "source": [
        "device = 'cuda' if T.cuda.is_available() else 'cpu'\n",
        "print('Using {} device'.format(device))"
      ],
      "metadata": {
        "colab": {
          "base_uri": "https://localhost:8080/"
        },
        "id": "A2uyrVpxwTYf",
        "outputId": "7c543ed5-5872-4779-a7a6-8b576a2d5d7e"
      },
      "execution_count": 14,
      "outputs": [
        {
          "output_type": "stream",
          "name": "stdout",
          "text": [
            "Using cuda device\n"
          ]
        }
      ]
    },
    {
      "cell_type": "code",
      "execution_count": null,
      "metadata": {
        "colab": {
          "base_uri": "https://localhost:8080/"
        },
        "id": "XRJxwsE9lvS6",
        "outputId": "79a1bbd1-63ee-43ad-e5da-ef8739273c5c"
      },
      "outputs": [
        {
          "output_type": "stream",
          "name": "stderr",
          "text": [
            "\u001b[32m[I 2022-08-04 07:43:46,714]\u001b[0m A new study created in memory with name: no-name-e5a859a2-0ce2-4521-a675-5f891294f00a\u001b[0m\n",
            "\u001b[32m[I 2022-08-04 07:44:03,286]\u001b[0m Trial 0 finished with value: 0.9567144907760774 and parameters: {'n_units_l0': 949, 'n_units_l1': 447, 'n_units_l2': 704, 'n_units_l3': 329, 'learning_rate': 0.0008430508472070481}. Best is trial 0 with value: 0.9567144907760774.\u001b[0m\n",
            "\u001b[32m[I 2022-08-04 07:44:19,601]\u001b[0m Trial 1 finished with value: 0.0 and parameters: {'n_units_l0': 739, 'n_units_l1': 856, 'n_units_l2': 221, 'n_units_l3': 977, 'learning_rate': 0.030426921606847752}. Best is trial 0 with value: 0.9567144907760774.\u001b[0m\n",
            "\u001b[32m[I 2022-08-04 07:44:35,425]\u001b[0m Trial 2 finished with value: 0.9506593635252801 and parameters: {'n_units_l0': 832, 'n_units_l1': 60, 'n_units_l2': 361, 'n_units_l3': 488, 'learning_rate': 0.0021304377861830225}. Best is trial 0 with value: 0.9567144907760774.\u001b[0m\n",
            "\u001b[32m[I 2022-08-04 07:44:57,299]\u001b[0m Trial 3 finished with value: 0.9597191888446857 and parameters: {'n_units_l0': 630, 'n_units_l1': 46, 'n_units_l2': 372, 'n_units_l3': 924, 'learning_rate': 0.0064109158616299945}. Best is trial 3 with value: 0.9597191888446857.\u001b[0m\n",
            "\u001b[32m[I 2022-08-04 07:45:19,197]\u001b[0m Trial 4 finished with value: 0.9514113550225334 and parameters: {'n_units_l0': 879, 'n_units_l1': 512, 'n_units_l2': 999, 'n_units_l3': 247, 'learning_rate': 1.9362339449536156e-05}. Best is trial 3 with value: 0.9597191888446857.\u001b[0m\n",
            "\u001b[32m[I 2022-08-04 07:45:34,908]\u001b[0m Trial 5 finished with value: 0.9609625768597823 and parameters: {'n_units_l0': 508, 'n_units_l1': 151, 'n_units_l2': 548, 'n_units_l3': 859, 'learning_rate': 9.168098482443464e-05}. Best is trial 5 with value: 0.9609625768597823.\u001b[0m\n",
            "\u001b[32m[I 2022-08-04 07:45:51,424]\u001b[0m Trial 6 finished with value: 0.9599955614794221 and parameters: {'n_units_l0': 684, 'n_units_l1': 615, 'n_units_l2': 980, 'n_units_l3': 909, 'learning_rate': 0.0013057936983099155}. Best is trial 5 with value: 0.9609625768597823.\u001b[0m\n",
            "\u001b[32m[I 2022-08-04 07:46:13,800]\u001b[0m Trial 7 finished with value: 0.9520856160280928 and parameters: {'n_units_l0': 908, 'n_units_l1': 901, 'n_units_l2': 110, 'n_units_l3': 83, 'learning_rate': 0.05035172581996375}. Best is trial 5 with value: 0.9609625768597823.\u001b[0m\n",
            "\u001b[32m[I 2022-08-04 07:46:29,519]\u001b[0m Trial 8 finished with value: 0.9519740402528516 and parameters: {'n_units_l0': 547, 'n_units_l1': 851, 'n_units_l2': 504, 'n_units_l3': 309, 'learning_rate': 0.009263127523290983}. Best is trial 5 with value: 0.9609625768597823.\u001b[0m\n",
            "\u001b[32m[I 2022-08-04 07:46:44,721]\u001b[0m Trial 9 finished with value: 0.9175239291227151 and parameters: {'n_units_l0': 177, 'n_units_l1': 52, 'n_units_l2': 236, 'n_units_l3': 490, 'learning_rate': 1.820125920495604e-05}. Best is trial 5 with value: 0.9609625768597823.\u001b[0m\n",
            "\u001b[32m[I 2022-08-04 07:47:00,696]\u001b[0m Trial 10 finished with value: 0.9613985710617133 and parameters: {'n_units_l0': 300, 'n_units_l1': 306, 'n_units_l2': 722, 'n_units_l3': 717, 'learning_rate': 0.0001602200540849465}. Best is trial 10 with value: 0.9613985710617133.\u001b[0m\n",
            "\u001b[32m[I 2022-08-04 07:47:23,089]\u001b[0m Trial 11 finished with value: 0.9614021494375874 and parameters: {'n_units_l0': 304, 'n_units_l1': 317, 'n_units_l2': 690, 'n_units_l3': 727, 'learning_rate': 0.00014051842561939946}. Best is trial 11 with value: 0.9614021494375874.\u001b[0m\n",
            "\u001b[32m[I 2022-08-04 07:47:38,787]\u001b[0m Trial 12 finished with value: 0.9592151888574664 and parameters: {'n_units_l0': 249, 'n_units_l1': 292, 'n_units_l2': 799, 'n_units_l3': 716, 'learning_rate': 0.00017479089277042684}. Best is trial 11 with value: 0.9614021494375874.\u001b[0m\n",
            "\u001b[32m[I 2022-08-04 07:48:00,652]\u001b[0m Trial 13 finished with value: 0.9621427870273814 and parameters: {'n_units_l0': 330, 'n_units_l1': 327, 'n_units_l2': 742, 'n_units_l3': 674, 'learning_rate': 0.00018383474317478808}. Best is trial 13 with value: 0.9621427870273814.\u001b[0m\n",
            "\u001b[32m[I 2022-08-04 07:48:22,589]\u001b[0m Trial 14 finished with value: 0.9620916569762122 and parameters: {'n_units_l0': 395, 'n_units_l1': 352, 'n_units_l2': 845, 'n_units_l3': 682, 'learning_rate': 0.0003849032796416139}. Best is trial 13 with value: 0.9621427870273814.\u001b[0m\n",
            "\u001b[32m[I 2022-08-04 07:48:44,980]\u001b[0m Trial 15 finished with value: 0.9568246665365225 and parameters: {'n_units_l0': 385, 'n_units_l1': 629, 'n_units_l2': 857, 'n_units_l3': 628, 'learning_rate': 0.0005074106901074999}. Best is trial 13 with value: 0.9621427870273814.\u001b[0m\n",
            "\u001b[32m[I 2022-08-04 07:49:06,864]\u001b[0m Trial 16 finished with value: 0.9474764169099246 and parameters: {'n_units_l0': 42, 'n_units_l1': 412, 'n_units_l2': 854, 'n_units_l3': 587, 'learning_rate': 3.817825550329592e-05}. Best is trial 13 with value: 0.9621427870273814.\u001b[0m\n",
            "\u001b[32m[I 2022-08-04 07:49:22,534]\u001b[0m Trial 17 finished with value: 0.9613837555365592 and parameters: {'n_units_l0': 417, 'n_units_l1': 187, 'n_units_l2': 574, 'n_units_l3': 823, 'learning_rate': 0.0005823165761446573}. Best is trial 13 with value: 0.9621427870273814.\u001b[0m\n",
            "\u001b[32m[I 2022-08-04 07:49:38,291]\u001b[0m Trial 18 finished with value: 0.9577189949663049 and parameters: {'n_units_l0': 126, 'n_units_l1': 702, 'n_units_l2': 906, 'n_units_l3': 454, 'learning_rate': 5.318844450709182e-05}. Best is trial 13 with value: 0.9621427870273814.\u001b[0m\n",
            "\u001b[32m[I 2022-08-04 07:49:53,816]\u001b[0m Trial 19 finished with value: 0.9631248518618242 and parameters: {'n_units_l0': 445, 'n_units_l1': 387, 'n_units_l2': 618, 'n_units_l3': 618, 'learning_rate': 0.00034958236523293957}. Best is trial 19 with value: 0.9631248518618242.\u001b[0m\n",
            "\u001b[32m[I 2022-08-04 07:50:16,232]\u001b[0m Trial 20 finished with value: 0.9589941036432078 and parameters: {'n_units_l0': 538, 'n_units_l1': 194, 'n_units_l2': 624, 'n_units_l3': 410, 'learning_rate': 0.0033590928346117544}. Best is trial 19 with value: 0.9631248518618242.\u001b[0m\n",
            "\u001b[32m[I 2022-08-04 07:50:38,121]\u001b[0m Trial 21 finished with value: 0.9599926807295671 and parameters: {'n_units_l0': 406, 'n_units_l1': 375, 'n_units_l2': 772, 'n_units_l3': 607, 'learning_rate': 0.00033976141143030866}. Best is trial 19 with value: 0.9631248518618242.\u001b[0m\n",
            "\u001b[32m[I 2022-08-04 07:51:00,936]\u001b[0m Trial 22 finished with value: 0.9630745352421443 and parameters: {'n_units_l0': 469, 'n_units_l1': 495, 'n_units_l2': 499, 'n_units_l3': 793, 'learning_rate': 0.00022204669653063327}. Best is trial 19 with value: 0.9631248518618242.\u001b[0m\n",
            "\u001b[32m[I 2022-08-04 07:51:17,245]\u001b[0m Trial 23 finished with value: 0.9588078223385383 and parameters: {'n_units_l0': 453, 'n_units_l1': 493, 'n_units_l2': 455, 'n_units_l3': 800, 'learning_rate': 5.233246642141316e-05}. Best is trial 19 with value: 0.9631248518618242.\u001b[0m\n",
            "\u001b[32m[I 2022-08-04 07:51:33,554]\u001b[0m Trial 24 finished with value: 0.962486643147428 and parameters: {'n_units_l0': 619, 'n_units_l1': 596, 'n_units_l2': 615, 'n_units_l3': 553, 'learning_rate': 0.00024893120289876493}. Best is trial 19 with value: 0.9631248518618242.\u001b[0m\n",
            "\u001b[32m[I 2022-08-04 07:51:49,648]\u001b[0m Trial 25 finished with value: 0.95956656189052 and parameters: {'n_units_l0': 628, 'n_units_l1': 745, 'n_units_l2': 429, 'n_units_l3': 548, 'learning_rate': 0.0012664566157924672}. Best is trial 19 with value: 0.9631248518618242.\u001b[0m\n",
            "\u001b[32m[I 2022-08-04 07:52:12,034]\u001b[0m Trial 26 finished with value: 0.9541688501036466 and parameters: {'n_units_l0': 600, 'n_units_l1': 591, 'n_units_l2': 628, 'n_units_l3': 780, 'learning_rate': 0.0003160704860178835}. Best is trial 19 with value: 0.9631248518618242.\u001b[0m\n",
            "\u001b[32m[I 2022-08-04 07:52:28,431]\u001b[0m Trial 27 finished with value: 0.9454791281787893 and parameters: {'n_units_l0': 481, 'n_units_l1': 537, 'n_units_l2': 617, 'n_units_l3': 1009, 'learning_rate': 0.0037314776018738107}. Best is trial 19 with value: 0.9631248518618242.\u001b[0m\n",
            "\u001b[32m[I 2022-08-04 07:52:44,822]\u001b[0m Trial 28 finished with value: 0.9295858905610863 and parameters: {'n_units_l0': 765, 'n_units_l1': 726, 'n_units_l2': 303, 'n_units_l3': 406, 'learning_rate': 1.0022418303912403e-05}. Best is trial 19 with value: 0.9631248518618242.\u001b[0m\n",
            "\u001b[32m[I 2022-08-04 07:53:01,190]\u001b[0m Trial 29 finished with value: 0.957542616609724 and parameters: {'n_units_l0': 576, 'n_units_l1': 465, 'n_units_l2': 491, 'n_units_l3': 214, 'learning_rate': 8.765895512930709e-05}. Best is trial 19 with value: 0.9631248518618242.\u001b[0m\n",
            "\u001b[32m[I 2022-08-04 07:53:17,471]\u001b[0m Trial 30 finished with value: 0.9573752599994854 and parameters: {'n_units_l0': 1022, 'n_units_l1': 1009, 'n_units_l2': 398, 'n_units_l3': 547, 'learning_rate': 0.0008639678164372869}. Best is trial 19 with value: 0.9631248518618242.\u001b[0m\n",
            "\u001b[32m[I 2022-08-04 07:53:39,416]\u001b[0m Trial 31 finished with value: 0.958014775184357 and parameters: {'n_units_l0': 300, 'n_units_l1': 426, 'n_units_l2': 691, 'n_units_l3': 652, 'learning_rate': 0.00026632040959434543}. Best is trial 19 with value: 0.9631248518618242.\u001b[0m\n",
            "\u001b[32m[I 2022-08-04 07:54:01,806]\u001b[0m Trial 32 finished with value: 0.9590425334522374 and parameters: {'n_units_l0': 356, 'n_units_l1': 247, 'n_units_l2': 743, 'n_units_l3': 740, 'learning_rate': 0.00010379215864877815}. Best is trial 19 with value: 0.9631248518618242.\u001b[0m\n"
          ]
        },
        {
          "output_type": "stream",
          "name": "stdout",
          "text": [
            "Number of finished trials: 33\n",
            "Best trial:\n",
            "  Value: 0.9631248518618242\n",
            "  Params: \n",
            "    n_units_l0: 445\n",
            "    n_units_l1: 387\n",
            "    n_units_l2: 618\n",
            "    n_units_l3: 618\n",
            "    learning_rate: 0.00034958236523293957\n"
          ]
        }
      ],
      "source": [
        "import urllib\n",
        "\n",
        "import optuna\n",
        "import sklearn\n",
        "from tensorflow.keras.backend import clear_session\n",
        "from tensorflow.keras.datasets import mnist\n",
        "from tensorflow.keras.layers import Conv2D\n",
        "from tensorflow.keras.layers import Dense\n",
        "from tensorflow.keras.layers import Flatten\n",
        "from tensorflow.keras.models import Sequential\n",
        "from tensorflow.keras.optimizers import RMSprop\n",
        "from tensorflow.keras.optimizers import Adam\n",
        "\n",
        "N_TRAIN_EXAMPLES = 5550\n",
        "N_VALID_EXAMPLES = 1850\n",
        "BATCHSIZE = 128\n",
        "CLASSES = 1\n",
        "EPOCHS = 10\n",
        "\n",
        "\n",
        "def objective(trial):\n",
        "    # Clear clutter from previous tf.keras session graphs.\n",
        "    clear_session()\n",
        "\n",
        "    sc = StandardScaler()\n",
        "    X_train, X_test, y_train, y_test = train_test_split(X, y, test_size=0.25, random_state=0)\n",
        "    X_train_scale = sc.fit_transform(X_train)\n",
        "    X_test_scale = sc.transform(X_test)\n",
        "    \n",
        "\n",
        "    model = Sequential()\n",
        "    model.add(Dense(trial.suggest_int(\"n_units_l{}\".format(0), 32, 1024), activation=\"relu\"))\n",
        "    model.add(Dense(trial.suggest_int(\"n_units_l{}\".format(1), 32, 1024), activation=\"relu\"))\n",
        "    model.add(Dense(trial.suggest_int(\"n_units_l{}\".format(2), 32, 1024), activation=\"relu\"))\n",
        "    model.add(Dense(trial.suggest_int(\"n_units_l{}\".format(3), 32, 1024), activation=\"relu\"))\n",
        "    model.add(Dense(1, activation=\"relu\"))\n",
        "\n",
        "\n",
        "    # We compile our model with a sampled learning rate.\n",
        "    learning_rate = trial.suggest_float(\"learning_rate\", 1e-5, 1e-1, log=True)\n",
        "    model.compile(\n",
        "        loss=\"mean_squared_error\",\n",
        "        optimizer=Adam(learning_rate=learning_rate),\n",
        "        metrics=[\"mean_squared_error\",\"mean_absolute_error\"],\n",
        "    )\n",
        "\n",
        "    model.fit(\n",
        "        X_train_scale,\n",
        "        y_train,\n",
        "        validation_data=(X_test_scale, y_test),\n",
        "        shuffle=True,\n",
        "        batch_size=BATCHSIZE,\n",
        "        epochs=EPOCHS,\n",
        "        verbose=False,\n",
        "    )\n",
        "\n",
        "    # Evaluate the model accuracy on the validation set.\n",
        "    pred_y = model.predict(X_test_scale)\n",
        "    r2 = sklearn.metrics.r2_score(pred_y, y_test)\n",
        "    return r2\n",
        "\n",
        "\n",
        "if __name__ == \"__main__\":\n",
        "    study = optuna.create_study(direction=\"maximize\")\n",
        "    study.optimize(objective, n_trials=100, timeout=600)\n",
        "\n",
        "    print(\"Number of finished trials: {}\".format(len(study.trials)))\n",
        "\n",
        "    print(\"Best trial:\")\n",
        "    trial = study.best_trial\n",
        "\n",
        "    print(\"  Value: {}\".format(trial.value))\n",
        "\n",
        "    print(\"  Params: \")\n",
        "    for key, value in trial.params.items():\n",
        "        print(\"    {}: {}\".format(key, value))"
      ]
    },
    {
      "cell_type": "code",
      "source": [
        "import urllib\n",
        "\n",
        "import sklearn\n",
        "from tensorflow.keras.backend import clear_session\n",
        "from tensorflow.keras.datasets import mnist\n",
        "from tensorflow.keras.layers import Conv2D\n",
        "from tensorflow.keras.layers import Dense\n",
        "from tensorflow.keras.layers import Flatten\n",
        "from tensorflow.keras.models import Sequential\n",
        "from tensorflow.keras.optimizers import RMSprop\n",
        "from tensorflow.keras.optimizers import Adam"
      ],
      "metadata": {
        "id": "WP1l-8e9JhvW"
      },
      "execution_count": 15,
      "outputs": []
    },
    {
      "cell_type": "code",
      "source": [
        "import urllib\n",
        "\n",
        "import optuna\n",
        "import sklearn\n",
        "from tensorflow.keras.backend import clear_session\n",
        "from tensorflow.keras.datasets import mnist\n",
        "from tensorflow.keras.layers import Conv2D\n",
        "from tensorflow.keras.layers import Dense\n",
        "from tensorflow.keras.layers import Flatten\n",
        "from tensorflow.keras.models import Sequential\n",
        "from tensorflow.keras.optimizers import RMSprop\n",
        "from tensorflow.keras.optimizers import Adam\n",
        "\n",
        "N_TRAIN_EXAMPLES = 5550\n",
        "N_VALID_EXAMPLES = 1850\n",
        "BATCHSIZE = 128\n",
        "CLASSES = 1\n",
        "EPOCHS = 10\n",
        "\n",
        "\n",
        "def objective(trial):\n",
        "    # Clear clutter from previous tf.keras session graphs.\n",
        "    clear_session()\n",
        "\n",
        "    sc = StandardScaler()\n",
        "    X_train, X_test, y_train, y_test = train_test_split(X, y, test_size=0.25, random_state=0)\n",
        "    X_train_scale = sc.fit_transform(X_train)\n",
        "    X_test_scale = sc.transform(X_test)\n",
        "    \n",
        "\n",
        "    model = Sequential()\n",
        "    model.add(Dense(trial.suggest_int(\"n_units_l{}\".format(0), 32, 1024), activation=\"relu\"))\n",
        "    model.add(Dense(trial.suggest_int(\"n_units_l{}\".format(1), 32, 1024), activation=\"relu\"))\n",
        "    model.add(Dense(trial.suggest_int(\"n_units_l{}\".format(2), 32, 1024), activation=\"relu\"))\n",
        "    model.add(Dense(trial.suggest_int(\"n_units_l{}\".format(3), 32, 1024), activation=\"relu\"))\n",
        "    model.add(Dense(1, activation=\"relu\"))\n",
        "\n",
        "\n",
        "    # We compile our model with a sampled learning rate.\n",
        "    learning_rate = trial.suggest_float(\"learning_rate\", 1e-5, 1e-1, log=True)\n",
        "    model.compile(\n",
        "        loss=\"mean_squared_error\",\n",
        "        optimizer=Adam(learning_rate=learning_rate),\n",
        "        metrics=[\"mean_squared_error\",\"mean_absolute_error\"],\n",
        "    )\n",
        "\n",
        "    model.fit(\n",
        "        X_train_scale,\n",
        "        y_train,\n",
        "        validation_data=(X_test_scale, y_test),\n",
        "        shuffle=True,\n",
        "        batch_size=BATCHSIZE,\n",
        "        epochs=EPOCHS,\n",
        "        verbose=False,\n",
        "    )\n",
        "\n",
        "    # Evaluate the model accuracy on the validation set.\n",
        "    pred_y = model.predict(X_test_scale)\n",
        "    r2 = sklearn.metrics.r2_score(pred_y, y_test)\n",
        "    return r2\n",
        "\n",
        "\n",
        "if __name__ == \"__main__\":\n",
        "    study = optuna.create_study(direction=\"maximize\")\n",
        "    study.optimize(objective, n_trials=100, timeout=600)\n",
        "\n",
        "    print(\"Number of finished trials: {}\".format(len(study.trials)))\n",
        "\n",
        "    print(\"Best trial:\")\n",
        "    trial = study.best_trial\n",
        "\n",
        "    print(\"  Value: {}\".format(trial.value))\n",
        "\n",
        "    print(\"  Params: \")\n",
        "    for key, value in trial.params.items():\n",
        "        print(\"    {}: {}\".format(key, value))"
      ],
      "metadata": {
        "id": "Y2gHud1fwL6i"
      },
      "execution_count": null,
      "outputs": []
    },
    {
      "cell_type": "code",
      "source": [
        "BATCHSIZE = 128\n",
        "CLASSES = 1\n",
        "EPOCHS = 30"
      ],
      "metadata": {
        "id": "mhmQ6QrGKLtG"
      },
      "execution_count": 23,
      "outputs": []
    },
    {
      "cell_type": "code",
      "source": [
        "import math"
      ],
      "metadata": {
        "id": "cDo7y6yFMqnV"
      },
      "execution_count": 17,
      "outputs": []
    },
    {
      "cell_type": "code",
      "source": [
        "sc = StandardScaler()\n",
        "X_train, X_test, y_train, y_test = train_test_split(X, y, test_size=0.25, shuffle=True)\n",
        "X_train_scale = sc.fit_transform(X_train)\n",
        "X_test_scale = sc.transform(X_test)\n",
        "\n",
        "model = Sequential()\n",
        "model.add(Dense(445, activation=\"relu\"))\n",
        "model.add(Dense(387, activation=\"relu\"))\n",
        "model.add(Dense(618, activation=\"relu\"))\n",
        "model.add(Dense(618, activation=\"relu\"))\n",
        "model.add(Dense(1, activation=\"relu\"))\n",
        "\n",
        "\n",
        "# We compile our model with a sampled learning rate.\n",
        "learning_rate = 0.00034958236523293957\n",
        "model.compile(\n",
        "    loss=\"mean_squared_error\",\n",
        "    optimizer=Adam(learning_rate=learning_rate),\n",
        "    metrics=[\"mean_squared_error\",\"mean_absolute_error\"],\n",
        ")\n",
        "\n",
        "history = model.fit(\n",
        "    X_train_scale,\n",
        "    y_train,\n",
        "    validation_data=(X_test_scale, y_test),\n",
        "    shuffle=True,\n",
        "    batch_size=BATCHSIZE,\n",
        "    epochs=EPOCHS,\n",
        "    verbose=False,\n",
        ")\n",
        "\n",
        "# Evaluate the model accuracy on the validation set.\n",
        "pred_y = model.predict(X_test_scale)\n",
        "r2 = sklearn.metrics.r2_score(pred_y, y_test)\n",
        "print(r2, math.sqrt(sklearn.metrics.mean_squared_error(pred_y, y_test)))\n"
      ],
      "metadata": {
        "colab": {
          "base_uri": "https://localhost:8080/"
        },
        "id": "buST38L93AU9",
        "outputId": "227221db-3981-4b92-abf4-279bc90b5a8c"
      },
      "execution_count": 24,
      "outputs": [
        {
          "output_type": "stream",
          "name": "stdout",
          "text": [
            "0.9484485749749986 5.415807504848353\n"
          ]
        }
      ]
    },
    {
      "cell_type": "code",
      "source": [
        "plt.plot(history.history['loss'])\n",
        "plt.plot(history.history['val_loss'])\n",
        "plt.title('model loss')\n",
        "plt.ylabel('loss')\n",
        "plt.xlabel('epoch')\n",
        "plt.legend(['train', 'test'], loc='upper left')\n",
        "plt.show()"
      ],
      "metadata": {
        "colab": {
          "base_uri": "https://localhost:8080/",
          "height": 295
        },
        "id": "kucUZP-uzDbb",
        "outputId": "620b5d25-5ed1-4ef7-f0f5-282219233828"
      },
      "execution_count": 25,
      "outputs": [
        {
          "output_type": "display_data",
          "data": {
            "text/plain": [
              "<Figure size 432x288 with 1 Axes>"
            ],
            "image/png": "[encoded data removed]"
          },
          "metadata": {
            "needs_background": "light"
          }
        }
      ]
    },
    {
      "cell_type": "code",
      "source": [
        "sc = StandardScaler()\n",
        "X_train, X_test, y_train, y_test = train_test_split(X, y, test_size=0.25, shuffle=True)\n",
        "X_train_scale = sc.fit_transform(X_train)\n",
        "X_test_scale = sc.transform(X_test)"
      ],
      "metadata": {
        "id": "-oH--nWDb1D5"
      },
      "execution_count": null,
      "outputs": []
    },
    {
      "cell_type": "code",
      "source": [
        "print(r2, math.sqrt(sklearn.metrics.mean_squared_error(pred_y, y_test)))"
      ],
      "metadata": {
        "colab": {
          "base_uri": "https://localhost:8080/"
        },
        "id": "tO3850JFJald",
        "outputId": "a34e03a9-5aa1-480f-954c-59d9f198e8a5"
      },
      "execution_count": null,
      "outputs": [
        {
          "output_type": "stream",
          "name": "stdout",
          "text": [
            "0.9638129381515405 4.891489784603009\n"
          ]
        }
      ]
    },
    {
      "cell_type": "code",
      "source": [
        "pred_y_tr = model.predict(X_train_scale)\n",
        "print(r2, math.sqrt(sklearn.metrics.mean_squared_error(pred_y_tr, y_train)))"
      ],
      "metadata": {
        "colab": {
          "base_uri": "https://localhost:8080/"
        },
        "id": "nyZwKa2dMtuO",
        "outputId": "ee834d4a-4c19-4230-e5e2-276d38ebca83"
      },
      "execution_count": null,
      "outputs": [
        {
          "output_type": "stream",
          "name": "stdout",
          "text": [
            "0.9638129381515405 4.229699006767452\n"
          ]
        }
      ]
    },
    {
      "cell_type": "code",
      "source": [
        ""
      ],
      "metadata": {
        "id": "y8jrbyndNoMM"
      },
      "execution_count": null,
      "outputs": []
    }
  ]
}