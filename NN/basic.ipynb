{
 "cells": [
  {
   "cell_type": "code",
   "execution_count": 1,
   "metadata": {},
   "outputs": [],
   "source": [
    "import torch\n",
    "import numpy as np\n",
    "import pandas as pd\n"
   ]
  },
  {
   "cell_type": "code",
   "execution_count": 2,
   "metadata": {},
   "outputs": [
    {
     "data": {
      "text/html": [
       "<div>\n",
       "<style scoped>\n",
       "    .dataframe tbody tr th:only-of-type {\n",
       "        vertical-align: middle;\n",
       "    }\n",
       "\n",
       "    .dataframe tbody tr th {\n",
       "        vertical-align: top;\n",
       "    }\n",
       "\n",
       "    .dataframe thead th {\n",
       "        text-align: right;\n",
       "    }\n",
       "</style>\n",
       "<table border=\"1\" class=\"dataframe\">\n",
       "  <thead>\n",
       "    <tr style=\"text-align: right;\">\n",
       "      <th></th>\n",
       "      <th>Unnamed: 0</th>\n",
       "      <th>node_type</th>\n",
       "      <th>x(m)</th>\n",
       "      <th>y(m)</th>\n",
       "      <th>primary_channel</th>\n",
       "      <th>min_channel_allowed</th>\n",
       "      <th>max_channel_allowed</th>\n",
       "      <th>RSSI</th>\n",
       "      <th>SINR</th>\n",
       "      <th>throughput</th>\n",
       "      <th>average_airtime</th>\n",
       "      <th>average_interference</th>\n",
       "      <th>wlan_code_index</th>\n",
       "    </tr>\n",
       "  </thead>\n",
       "  <tbody>\n",
       "    <tr>\n",
       "      <th>0</th>\n",
       "      <td>0</td>\n",
       "      <td>0</td>\n",
       "      <td>10.0000</td>\n",
       "      <td>10.0000</td>\n",
       "      <td>4</td>\n",
       "      <td>4</td>\n",
       "      <td>5</td>\n",
       "      <td>-58.226667</td>\n",
       "      <td>29.62</td>\n",
       "      <td>111.77</td>\n",
       "      <td>95.745</td>\n",
       "      <td>-107.399091</td>\n",
       "      <td>0</td>\n",
       "    </tr>\n",
       "    <tr>\n",
       "      <th>1</th>\n",
       "      <td>1</td>\n",
       "      <td>1</td>\n",
       "      <td>0.0713</td>\n",
       "      <td>10.8079</td>\n",
       "      <td>4</td>\n",
       "      <td>4</td>\n",
       "      <td>5</td>\n",
       "      <td>-65.370000</td>\n",
       "      <td>29.36</td>\n",
       "      <td>5.79</td>\n",
       "      <td>95.745</td>\n",
       "      <td>0.000000</td>\n",
       "      <td>0</td>\n",
       "    </tr>\n",
       "    <tr>\n",
       "      <th>2</th>\n",
       "      <td>2</td>\n",
       "      <td>1</td>\n",
       "      <td>1.9627</td>\n",
       "      <td>4.1427</td>\n",
       "      <td>4</td>\n",
       "      <td>4</td>\n",
       "      <td>5</td>\n",
       "      <td>-65.350000</td>\n",
       "      <td>29.48</td>\n",
       "      <td>6.11</td>\n",
       "      <td>95.745</td>\n",
       "      <td>0.000000</td>\n",
       "      <td>0</td>\n",
       "    </tr>\n",
       "    <tr>\n",
       "      <th>3</th>\n",
       "      <td>3</td>\n",
       "      <td>1</td>\n",
       "      <td>13.7849</td>\n",
       "      <td>16.7538</td>\n",
       "      <td>4</td>\n",
       "      <td>4</td>\n",
       "      <td>5</td>\n",
       "      <td>-61.410000</td>\n",
       "      <td>31.97</td>\n",
       "      <td>6.91</td>\n",
       "      <td>95.745</td>\n",
       "      <td>0.000000</td>\n",
       "      <td>0</td>\n",
       "    </tr>\n",
       "    <tr>\n",
       "      <th>4</th>\n",
       "      <td>4</td>\n",
       "      <td>1</td>\n",
       "      <td>6.7112</td>\n",
       "      <td>1.7487</td>\n",
       "      <td>4</td>\n",
       "      <td>4</td>\n",
       "      <td>5</td>\n",
       "      <td>-63.520000</td>\n",
       "      <td>31.26</td>\n",
       "      <td>9.99</td>\n",
       "      <td>95.745</td>\n",
       "      <td>0.000000</td>\n",
       "      <td>0</td>\n",
       "    </tr>\n",
       "    <tr>\n",
       "      <th>...</th>\n",
       "      <td>...</td>\n",
       "      <td>...</td>\n",
       "      <td>...</td>\n",
       "      <td>...</td>\n",
       "      <td>...</td>\n",
       "      <td>...</td>\n",
       "      <td>...</td>\n",
       "      <td>...</td>\n",
       "      <td>...</td>\n",
       "      <td>...</td>\n",
       "      <td>...</td>\n",
       "      <td>...</td>\n",
       "      <td>...</td>\n",
       "    </tr>\n",
       "    <tr>\n",
       "      <th>87904</th>\n",
       "      <td>87904</td>\n",
       "      <td>1</td>\n",
       "      <td>22.4444</td>\n",
       "      <td>46.9925</td>\n",
       "      <td>0</td>\n",
       "      <td>0</td>\n",
       "      <td>7</td>\n",
       "      <td>-68.170000</td>\n",
       "      <td>11.06</td>\n",
       "      <td>3.30</td>\n",
       "      <td>79.220</td>\n",
       "      <td>0.000000</td>\n",
       "      <td>9</td>\n",
       "    </tr>\n",
       "    <tr>\n",
       "      <th>87905</th>\n",
       "      <td>87905</td>\n",
       "      <td>1</td>\n",
       "      <td>32.0104</td>\n",
       "      <td>51.2173</td>\n",
       "      <td>0</td>\n",
       "      <td>0</td>\n",
       "      <td>7</td>\n",
       "      <td>-52.610000</td>\n",
       "      <td>32.17</td>\n",
       "      <td>43.24</td>\n",
       "      <td>79.220</td>\n",
       "      <td>0.000000</td>\n",
       "      <td>9</td>\n",
       "    </tr>\n",
       "    <tr>\n",
       "      <th>87906</th>\n",
       "      <td>87906</td>\n",
       "      <td>1</td>\n",
       "      <td>34.1608</td>\n",
       "      <td>48.5987</td>\n",
       "      <td>0</td>\n",
       "      <td>0</td>\n",
       "      <td>7</td>\n",
       "      <td>-59.770000</td>\n",
       "      <td>24.86</td>\n",
       "      <td>37.02</td>\n",
       "      <td>79.220</td>\n",
       "      <td>0.000000</td>\n",
       "      <td>9</td>\n",
       "    </tr>\n",
       "    <tr>\n",
       "      <th>87907</th>\n",
       "      <td>87907</td>\n",
       "      <td>1</td>\n",
       "      <td>31.8977</td>\n",
       "      <td>54.3313</td>\n",
       "      <td>0</td>\n",
       "      <td>0</td>\n",
       "      <td>7</td>\n",
       "      <td>-60.700000</td>\n",
       "      <td>23.68</td>\n",
       "      <td>36.86</td>\n",
       "      <td>79.220</td>\n",
       "      <td>0.000000</td>\n",
       "      <td>9</td>\n",
       "    </tr>\n",
       "    <tr>\n",
       "      <th>87908</th>\n",
       "      <td>87908</td>\n",
       "      <td>1</td>\n",
       "      <td>29.5763</td>\n",
       "      <td>58.3586</td>\n",
       "      <td>0</td>\n",
       "      <td>0</td>\n",
       "      <td>7</td>\n",
       "      <td>-68.610000</td>\n",
       "      <td>16.89</td>\n",
       "      <td>31.41</td>\n",
       "      <td>79.220</td>\n",
       "      <td>0.000000</td>\n",
       "      <td>9</td>\n",
       "    </tr>\n",
       "  </tbody>\n",
       "</table>\n",
       "<p>87909 rows × 13 columns</p>\n",
       "</div>"
      ],
      "text/plain": [
       "       Unnamed: 0  node_type     x(m)     y(m)  primary_channel  \\\n",
       "0               0          0  10.0000  10.0000                4   \n",
       "1               1          1   0.0713  10.8079                4   \n",
       "2               2          1   1.9627   4.1427                4   \n",
       "3               3          1  13.7849  16.7538                4   \n",
       "4               4          1   6.7112   1.7487                4   \n",
       "...           ...        ...      ...      ...              ...   \n",
       "87904       87904          1  22.4444  46.9925                0   \n",
       "87905       87905          1  32.0104  51.2173                0   \n",
       "87906       87906          1  34.1608  48.5987                0   \n",
       "87907       87907          1  31.8977  54.3313                0   \n",
       "87908       87908          1  29.5763  58.3586                0   \n",
       "\n",
       "       min_channel_allowed  max_channel_allowed       RSSI   SINR  throughput  \\\n",
       "0                        4                    5 -58.226667  29.62      111.77   \n",
       "1                        4                    5 -65.370000  29.36        5.79   \n",
       "2                        4                    5 -65.350000  29.48        6.11   \n",
       "3                        4                    5 -61.410000  31.97        6.91   \n",
       "4                        4                    5 -63.520000  31.26        9.99   \n",
       "...                    ...                  ...        ...    ...         ...   \n",
       "87904                    0                    7 -68.170000  11.06        3.30   \n",
       "87905                    0                    7 -52.610000  32.17       43.24   \n",
       "87906                    0                    7 -59.770000  24.86       37.02   \n",
       "87907                    0                    7 -60.700000  23.68       36.86   \n",
       "87908                    0                    7 -68.610000  16.89       31.41   \n",
       "\n",
       "       average_airtime  average_interference  wlan_code_index  \n",
       "0               95.745           -107.399091                0  \n",
       "1               95.745              0.000000                0  \n",
       "2               95.745              0.000000                0  \n",
       "3               95.745              0.000000                0  \n",
       "4               95.745              0.000000                0  \n",
       "...                ...                   ...              ...  \n",
       "87904           79.220              0.000000                9  \n",
       "87905           79.220              0.000000                9  \n",
       "87906           79.220              0.000000                9  \n",
       "87907           79.220              0.000000                9  \n",
       "87908           79.220              0.000000                9  \n",
       "\n",
       "[87909 rows x 13 columns]"
      ]
     },
     "execution_count": 2,
     "metadata": {},
     "output_type": "execute_result"
    }
   ],
   "source": [
    "df=pd.read_csv(\"C:\\\\Users\\\\shrey\\\\OneDrive\\\\Documents\\\\.PES\\\\PIL\\\\fin-dataset_2.csv\")\n",
    "df\n",
    "df.drop(['node_code'],axis=1)"
   ]
  },
  {
   "cell_type": "code",
   "execution_count": 35,
   "metadata": {},
   "outputs": [
    {
     "name": "stdout",
     "output_type": "stream",
     "text": [
      "PyTorch Version:  1.12.0+cu113\n"
     ]
    }
   ],
   "source": [
    "from sklearn.model_selection import train_test_split\n",
    "y=df['throughput'].values #throughput \n",
    "\n",
    "\n",
    "x=df[[  'x(m)', 'y(m)',\n",
    "       'primary_channel', 'min_channel_allowed', 'max_channel_allowed', 'RSSI',\n",
    "       'SINR', 'average_airtime', 'average_interference',\n",
    "       'wlan_code_index']].values\n",
    "       \n",
    "\n",
    "X_train, X_test, y_train, y_test = train_test_split(x, y, test_size=0.2, random_state=101)\n",
    "print(\"PyTorch Version: \", torch.__version__)\n",
    "       "
   ]
  },
  {
   "cell_type": "markdown",
   "metadata": {},
   "source": [
    "### Converting the dataframe into tensors for pytorch"
   ]
  },
  {
   "cell_type": "code",
   "execution_count": 36,
   "metadata": {},
   "outputs": [
    {
     "name": "stdout",
     "output_type": "stream",
     "text": [
      "torch.Size([70327, 10]) torch.Size([70327])\n",
      "torch.Size([17582, 10]) torch.Size([17582])\n"
     ]
    },
    {
     "data": {
      "text/plain": [
       "tensor([ 2.5300,  2.8700,  0.0000,  ..., 14.7500, 11.2100,  4.4700])"
      ]
     },
     "execution_count": 36,
     "metadata": {},
     "output_type": "execute_result"
    }
   ],
   "source": [
    "#X_train.to_numpy()\n",
    "X_train = torch.from_numpy(X_train).float()\n",
    "X_train\n",
    "y_train = torch.squeeze(torch.from_numpy(y_train).float())\n",
    "X_test = torch.from_numpy(X_test).float()\n",
    "y_test = torch.squeeze(torch.from_numpy(y_test).float())\n",
    "print(X_train.shape, y_train.shape)\n",
    "print(X_test.shape, y_test.shape)\n",
    "y_test"
   ]
  },
  {
   "cell_type": "markdown",
   "metadata": {},
   "source": [
    "#### Neural network"
   ]
  },
  {
   "cell_type": "code",
   "execution_count": 38,
   "metadata": {},
   "outputs": [],
   "source": [
    "from torch import nn\n",
    "import torch.nn.functional as F\n",
    "\n",
    "class Net(nn.Module):\n",
    "  def __init__(self, n_features):\n",
    "    super(Net, self).__init__()\n",
    "    self.fc1 = nn.Linear(n_features, 5)\n",
    "    self.fc2 = nn.Linear(5, 3)\n",
    "    self.fc3 = nn.Linear(3, 1) # result is a single number so only one output\n",
    "  def forward(self, x):\n",
    "    x = F.relu(self.fc1(x))\n",
    "    x = F.relu(self.fc2(x))\n",
    "    #return torch.sigmoid(self.fc3(x))\n",
    "    return x\n",
    "# an instance\n",
    "net = Net(X_train.shape[1])    "
   ]
  },
  {
   "cell_type": "markdown",
   "metadata": {},
   "source": [
    "![the NN](\"NN1.png\")"
   ]
  },
  {
   "cell_type": "markdown",
   "metadata": {},
   "source": [
    "#### Running it locally on gpu:"
   ]
  },
  {
   "cell_type": "code",
   "execution_count": 40,
   "metadata": {},
   "outputs": [],
   "source": [
    "\n",
    "criterion = nn.MSELoss()\n",
    "optimizer = torch.optim.Adam(net.parameters(), lr=0.001) # lr is taken to be a small value for trial purposes\n"
   ]
  },
  {
   "cell_type": "code",
   "execution_count": 41,
   "metadata": {},
   "outputs": [],
   "source": [
    "device = torch.device(\"cuda:0\" if torch.cuda.is_available() else \"cpu\")\n",
    "X_train = X_train.to(device)\n",
    "y_train = y_train.to(device)\n",
    "X_test = X_test.to(device)\n",
    "y_test = y_test.to(device)\n",
    "net = net.to(device)\n",
    "criterion = criterion.to(device)"
   ]
  },
  {
   "cell_type": "code",
   "execution_count": 42,
   "metadata": {},
   "outputs": [],
   "source": [
    "def calculate_accuracy(y_true, y_pred):\n",
    "  predicted = y_pred#.ge(.5).view(-1)\n",
    "  return (y_true == predicted).sum().float() / len(y_true)"
   ]
  },
  {
   "cell_type": "markdown",
   "metadata": {},
   "source": [
    "### TRAINING:"
   ]
  },
  {
   "cell_type": "code",
   "execution_count": 44,
   "metadata": {},
   "outputs": [
    {
     "ename": "RuntimeError",
     "evalue": "The size of tensor a (3) must match the size of tensor b (70327) at non-singleton dimension 1",
     "output_type": "error",
     "traceback": [
      "\u001b[1;31m---------------------------------------------------------------------------\u001b[0m",
      "\u001b[1;31mRuntimeError\u001b[0m                              Traceback (most recent call last)",
      "\u001b[1;32mc:\\Users\\shrey\\OneDrive\\Documents\\.PES\\PIL\\Model\\NN\\basic.ipynb Cell 14'\u001b[0m in \u001b[0;36m<cell line: 5>\u001b[1;34m()\u001b[0m\n\u001b[0;32m      <a href='vscode-notebook-cell:/c%3A/Users/shrey/OneDrive/Documents/.PES/PIL/Model/NN/basic.ipynb#ch0000015?line=5'>6</a>\u001b[0m y_pred \u001b[39m=\u001b[39m net(X_train)\n\u001b[0;32m      <a href='vscode-notebook-cell:/c%3A/Users/shrey/OneDrive/Documents/.PES/PIL/Model/NN/basic.ipynb#ch0000015?line=6'>7</a>\u001b[0m y_pred \u001b[39m=\u001b[39m torch\u001b[39m.\u001b[39msqueeze(y_pred)\n\u001b[1;32m----> <a href='vscode-notebook-cell:/c%3A/Users/shrey/OneDrive/Documents/.PES/PIL/Model/NN/basic.ipynb#ch0000015?line=7'>8</a>\u001b[0m train_loss \u001b[39m=\u001b[39m criterion(y_pred, y_train)\n\u001b[0;32m      <a href='vscode-notebook-cell:/c%3A/Users/shrey/OneDrive/Documents/.PES/PIL/Model/NN/basic.ipynb#ch0000015?line=8'>9</a>\u001b[0m \u001b[39mif\u001b[39;00m epoch \u001b[39m%\u001b[39m \u001b[39m100\u001b[39m \u001b[39m==\u001b[39m \u001b[39m0\u001b[39m:\n\u001b[0;32m     <a href='vscode-notebook-cell:/c%3A/Users/shrey/OneDrive/Documents/.PES/PIL/Model/NN/basic.ipynb#ch0000015?line=9'>10</a>\u001b[0m   train_acc \u001b[39m=\u001b[39m calculate_accuracy(y_train, y_pred)\n",
      "File \u001b[1;32mc:\\Python310\\lib\\site-packages\\torch\\nn\\modules\\module.py:1130\u001b[0m, in \u001b[0;36mModule._call_impl\u001b[1;34m(self, *input, **kwargs)\u001b[0m\n\u001b[0;32m   1126\u001b[0m \u001b[39m# If we don't have any hooks, we want to skip the rest of the logic in\u001b[39;00m\n\u001b[0;32m   1127\u001b[0m \u001b[39m# this function, and just call forward.\u001b[39;00m\n\u001b[0;32m   1128\u001b[0m \u001b[39mif\u001b[39;00m \u001b[39mnot\u001b[39;00m (\u001b[39mself\u001b[39m\u001b[39m.\u001b[39m_backward_hooks \u001b[39mor\u001b[39;00m \u001b[39mself\u001b[39m\u001b[39m.\u001b[39m_forward_hooks \u001b[39mor\u001b[39;00m \u001b[39mself\u001b[39m\u001b[39m.\u001b[39m_forward_pre_hooks \u001b[39mor\u001b[39;00m _global_backward_hooks\n\u001b[0;32m   1129\u001b[0m         \u001b[39mor\u001b[39;00m _global_forward_hooks \u001b[39mor\u001b[39;00m _global_forward_pre_hooks):\n\u001b[1;32m-> 1130\u001b[0m     \u001b[39mreturn\u001b[39;00m forward_call(\u001b[39m*\u001b[39m\u001b[39minput\u001b[39m, \u001b[39m*\u001b[39m\u001b[39m*\u001b[39mkwargs)\n\u001b[0;32m   1131\u001b[0m \u001b[39m# Do not call functions when jit is used\u001b[39;00m\n\u001b[0;32m   1132\u001b[0m full_backward_hooks, non_full_backward_hooks \u001b[39m=\u001b[39m [], []\n",
      "File \u001b[1;32mc:\\Python310\\lib\\site-packages\\torch\\nn\\modules\\loss.py:530\u001b[0m, in \u001b[0;36mMSELoss.forward\u001b[1;34m(self, input, target)\u001b[0m\n\u001b[0;32m    529\u001b[0m \u001b[39mdef\u001b[39;00m \u001b[39mforward\u001b[39m(\u001b[39mself\u001b[39m, \u001b[39minput\u001b[39m: Tensor, target: Tensor) \u001b[39m-\u001b[39m\u001b[39m>\u001b[39m Tensor:\n\u001b[1;32m--> 530\u001b[0m     \u001b[39mreturn\u001b[39;00m F\u001b[39m.\u001b[39;49mmse_loss(\u001b[39minput\u001b[39;49m, target, reduction\u001b[39m=\u001b[39;49m\u001b[39mself\u001b[39;49m\u001b[39m.\u001b[39;49mreduction)\n",
      "File \u001b[1;32mc:\\Python310\\lib\\site-packages\\torch\\nn\\functional.py:3279\u001b[0m, in \u001b[0;36mmse_loss\u001b[1;34m(input, target, size_average, reduce, reduction)\u001b[0m\n\u001b[0;32m   3276\u001b[0m \u001b[39mif\u001b[39;00m size_average \u001b[39mis\u001b[39;00m \u001b[39mnot\u001b[39;00m \u001b[39mNone\u001b[39;00m \u001b[39mor\u001b[39;00m reduce \u001b[39mis\u001b[39;00m \u001b[39mnot\u001b[39;00m \u001b[39mNone\u001b[39;00m:\n\u001b[0;32m   3277\u001b[0m     reduction \u001b[39m=\u001b[39m _Reduction\u001b[39m.\u001b[39mlegacy_get_string(size_average, reduce)\n\u001b[1;32m-> 3279\u001b[0m expanded_input, expanded_target \u001b[39m=\u001b[39m torch\u001b[39m.\u001b[39;49mbroadcast_tensors(\u001b[39minput\u001b[39;49m, target)\n\u001b[0;32m   3280\u001b[0m \u001b[39mreturn\u001b[39;00m torch\u001b[39m.\u001b[39m_C\u001b[39m.\u001b[39m_nn\u001b[39m.\u001b[39mmse_loss(expanded_input, expanded_target, _Reduction\u001b[39m.\u001b[39mget_enum(reduction))\n",
      "File \u001b[1;32mc:\\Python310\\lib\\site-packages\\torch\\functional.py:73\u001b[0m, in \u001b[0;36mbroadcast_tensors\u001b[1;34m(*tensors)\u001b[0m\n\u001b[0;32m     71\u001b[0m \u001b[39mif\u001b[39;00m has_torch_function(tensors):\n\u001b[0;32m     72\u001b[0m     \u001b[39mreturn\u001b[39;00m handle_torch_function(broadcast_tensors, tensors, \u001b[39m*\u001b[39mtensors)\n\u001b[1;32m---> 73\u001b[0m \u001b[39mreturn\u001b[39;00m _VF\u001b[39m.\u001b[39;49mbroadcast_tensors(tensors)\n",
      "\u001b[1;31mRuntimeError\u001b[0m: The size of tensor a (3) must match the size of tensor b (70327) at non-singleton dimension 1"
     ]
    }
   ],
   "source": [
    "def round_tensor(t, decimal_places=3):\n",
    "  return round(t.item(), decimal_places)\n",
    "\n",
    "\n",
    "for epoch in range(1000):\n",
    "    y_pred = net(X_train)\n",
    "    y_pred = torch.squeeze(y_pred)\n",
    "    train_loss = criterion(y_pred, y_train)\n",
    "    if epoch % 100 == 0:\n",
    "      train_acc = calculate_accuracy(y_train, y_pred)\n",
    "      y_test_pred = net(X_test)\n",
    "      y_test_pred = torch.squeeze(y_test_pred)\n",
    "      test_loss = criterion(y_test_pred, y_test)\n",
    "      test_acc = calculate_accuracy(y_test, y_test_pred)\n",
    "      print(\n",
    "f'''epoch {epoch}\n",
    "Train set - loss: {round_tensor(train_loss)}, accuracy: {round_tensor(train_acc)}\n",
    "Test  set - loss: {round_tensor(test_loss)}, accuracy: {round_tensor(test_acc)}\n",
    "''')\n",
    "\n",
    "optimizer.zero_grad()\n",
    "train_loss.backward()\n",
    "optimizer.step()"
   ]
  }
 ],
 "metadata": {
  "kernelspec": {
   "display_name": "Python 3.10.0 64-bit",
   "language": "python",
   "name": "python3"
  },
  "language_info": {
   "codemirror_mode": {
    "name": "ipython",
    "version": 3
   },
   "file_extension": ".py",
   "mimetype": "text/x-python",
   "name": "python",
   "nbconvert_exporter": "python",
   "pygments_lexer": "ipython3",
   "version": "3.10.0"
  },
  "orig_nbformat": 4,
  "vscode": {
   "interpreter": {
    "hash": "369f2c481f4da34e4445cda3fffd2e751bd1c4d706f27375911949ba6bb62e1c"
   }
  }
 },
 "nbformat": 4,
 "nbformat_minor": 2
}
