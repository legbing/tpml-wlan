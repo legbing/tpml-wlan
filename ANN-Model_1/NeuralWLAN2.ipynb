{
  "cells": [
    {
      "cell_type": "code",
      "execution_count": 1,
      "metadata": {
        "id": "i_UE577hwNAh"
      },
      "outputs": [],
      "source": [
        "import numpy as np\n",
        "import pandas as pd\n",
        "import matplotlib.pyplot as plt\n",
        "from sklearn.preprocessing import scale \n",
        "from sklearn import model_selection\n",
        "from sklearn.model_selection import RepeatedKFold\n",
        "from sklearn.model_selection import train_test_split\n",
        "from sklearn.decomposition import PCA\n",
        "from sklearn.linear_model import LinearRegression\n",
        "from sklearn.metrics import mean_squared_error\n",
        "dataset = pd.read_csv(\"/content/drive/MyDrive/fin-dataset_2.csv\")\n",
        "X = dataset[['node_type','wlan_code_index','x(m)','y(m)','primary_channel','min_channel_allowed','max_channel_allowed','RSSI','SINR','average_airtime','average_interference']].values\n",
        "y = dataset['throughput'].values"
      ]
    },
    {
      "cell_type": "code",
      "execution_count": 2,
      "metadata": {
        "id": "KNanEn87we6a"
      },
      "outputs": [],
      "source": [
        "\n",
        "from sklearn.model_selection import train_test_split\n",
        "X_train, X_test, y_train, y_test = train_test_split(X, y, test_size=0.25, random_state=0)\n"
      ]
    },
    {
      "cell_type": "code",
      "execution_count": 3,
      "metadata": {
        "id": "3E121-IbyGjM"
      },
      "outputs": [],
      "source": [
        "from keras.models import Sequential\n",
        "from keras.layers import Dense\n",
        "from keras.models import Model   \n",
        "from keras.layers import * \n"
      ]
    },
    {
      "cell_type": "code",
      "execution_count": 15,
      "metadata": {
        "id": "VarWc6swwjL2"
      },
      "outputs": [],
      "source": [
        "hidden_units1 = 160\n",
        "hidden_units2 = 480\n",
        "hidden_units3 = 256\n",
        "learning_rate = 0.01\n",
        "# Creating model using the Sequential in tensorflow\n",
        "def build_model_using_sequential():\n",
        "  model = Sequential([\n",
        "    Dense(hidden_units1, kernel_initializer='normal', activation='relu'),\n",
        "    Dense(hidden_units2, kernel_initializer='normal', activation='relu'),\n",
        "    Dense(hidden_units3, kernel_initializer='normal', activation='relu'),\n",
        "    Dense(1, kernel_initializer='normal', activation='linear')\n",
        "  ])\n",
        "  return model\n",
        "# build the model\n",
        "model = build_model_using_sequential()"
      ]
    },
    {
      "cell_type": "code",
      "execution_count": 16,
      "metadata": {
        "colab": {
          "base_uri": "https://localhost:8080/"
        },
        "id": "6fZAIVinyUBP",
        "outputId": "52965776-17d2-44ee-fa02-ed963e8d63aa"
      },
      "outputs": [
        {
          "output_type": "stream",
          "name": "stdout",
          "text": [
            "Epoch 1/100\n",
            "825/825 [==============================] - 4s 4ms/step - loss: 0.3135 - accuracy: 0.0177 - val_loss: 0.2641 - val_accuracy: 0.0182\n",
            "Epoch 2/100\n",
            "825/825 [==============================] - 3s 4ms/step - loss: 0.2527 - accuracy: 0.0198 - val_loss: 0.2491 - val_accuracy: 0.0209\n",
            "Epoch 3/100\n",
            "825/825 [==============================] - 3s 4ms/step - loss: 0.2455 - accuracy: 0.0199 - val_loss: 0.2523 - val_accuracy: 0.0211\n",
            "Epoch 4/100\n",
            "825/825 [==============================] - 3s 4ms/step - loss: 0.2394 - accuracy: 0.0204 - val_loss: 0.2375 - val_accuracy: 0.0206\n",
            "Epoch 5/100\n",
            "825/825 [==============================] - 3s 3ms/step - loss: 0.2371 - accuracy: 0.0203 - val_loss: 0.2509 - val_accuracy: 0.0209\n",
            "Epoch 6/100\n",
            "825/825 [==============================] - 3s 3ms/step - loss: 0.2345 - accuracy: 0.0207 - val_loss: 0.2393 - val_accuracy: 0.0203\n",
            "Epoch 7/100\n",
            "825/825 [==============================] - 3s 4ms/step - loss: 0.2329 - accuracy: 0.0207 - val_loss: 0.2494 - val_accuracy: 0.0206\n",
            "Epoch 8/100\n",
            "825/825 [==============================] - 3s 3ms/step - loss: 0.2292 - accuracy: 0.0208 - val_loss: 0.2294 - val_accuracy: 0.0201\n",
            "Epoch 9/100\n",
            "825/825 [==============================] - 3s 4ms/step - loss: 0.2277 - accuracy: 0.0209 - val_loss: 0.2320 - val_accuracy: 0.0202\n",
            "Epoch 10/100\n",
            "825/825 [==============================] - 3s 3ms/step - loss: 0.2257 - accuracy: 0.0205 - val_loss: 0.2311 - val_accuracy: 0.0212\n",
            "Epoch 11/100\n",
            "825/825 [==============================] - 3s 3ms/step - loss: 0.2242 - accuracy: 0.0208 - val_loss: 0.2404 - val_accuracy: 0.0206\n",
            "Epoch 12/100\n",
            "825/825 [==============================] - 3s 4ms/step - loss: 0.2232 - accuracy: 0.0207 - val_loss: 0.2465 - val_accuracy: 0.0202\n",
            "Epoch 13/100\n",
            "825/825 [==============================] - 3s 4ms/step - loss: 0.2211 - accuracy: 0.0208 - val_loss: 0.2267 - val_accuracy: 0.0206\n",
            "Epoch 14/100\n",
            "825/825 [==============================] - 3s 4ms/step - loss: 0.2211 - accuracy: 0.0210 - val_loss: 0.2381 - val_accuracy: 0.0199\n",
            "Epoch 15/100\n",
            "825/825 [==============================] - 3s 3ms/step - loss: 0.2190 - accuracy: 0.0212 - val_loss: 0.2261 - val_accuracy: 0.0207\n",
            "Epoch 16/100\n",
            "825/825 [==============================] - 3s 4ms/step - loss: 0.2191 - accuracy: 0.0210 - val_loss: 0.2268 - val_accuracy: 0.0206\n",
            "Epoch 17/100\n",
            "825/825 [==============================] - 3s 3ms/step - loss: 0.2176 - accuracy: 0.0209 - val_loss: 0.2216 - val_accuracy: 0.0201\n",
            "Epoch 18/100\n",
            "825/825 [==============================] - 3s 3ms/step - loss: 0.2157 - accuracy: 0.0211 - val_loss: 0.2266 - val_accuracy: 0.0205\n",
            "Epoch 19/100\n",
            "825/825 [==============================] - 3s 4ms/step - loss: 0.2158 - accuracy: 0.0210 - val_loss: 0.2185 - val_accuracy: 0.0208\n",
            "Epoch 20/100\n",
            "825/825 [==============================] - 3s 3ms/step - loss: 0.2141 - accuracy: 0.0212 - val_loss: 0.2269 - val_accuracy: 0.0202\n",
            "Epoch 21/100\n",
            "825/825 [==============================] - 3s 4ms/step - loss: 0.2137 - accuracy: 0.0212 - val_loss: 0.2226 - val_accuracy: 0.0201\n",
            "Epoch 22/100\n",
            "825/825 [==============================] - 3s 4ms/step - loss: 0.2113 - accuracy: 0.0209 - val_loss: 0.2197 - val_accuracy: 0.0204\n",
            "Epoch 23/100\n",
            "825/825 [==============================] - 3s 3ms/step - loss: 0.2109 - accuracy: 0.0210 - val_loss: 0.2231 - val_accuracy: 0.0206\n",
            "Epoch 24/100\n",
            "825/825 [==============================] - 3s 4ms/step - loss: 0.2104 - accuracy: 0.0208 - val_loss: 0.2158 - val_accuracy: 0.0203\n",
            "Epoch 25/100\n",
            "825/825 [==============================] - 3s 3ms/step - loss: 0.2088 - accuracy: 0.0211 - val_loss: 0.2182 - val_accuracy: 0.0209\n",
            "Epoch 26/100\n",
            "825/825 [==============================] - 3s 4ms/step - loss: 0.2084 - accuracy: 0.0211 - val_loss: 0.2176 - val_accuracy: 0.0209\n",
            "Epoch 27/100\n",
            "825/825 [==============================] - 4s 5ms/step - loss: 0.2066 - accuracy: 0.0213 - val_loss: 0.2390 - val_accuracy: 0.0212\n",
            "Epoch 28/100\n",
            "825/825 [==============================] - 3s 3ms/step - loss: 0.2063 - accuracy: 0.0210 - val_loss: 0.2175 - val_accuracy: 0.0214\n",
            "Epoch 29/100\n",
            "825/825 [==============================] - 3s 3ms/step - loss: 0.2056 - accuracy: 0.0213 - val_loss: 0.2225 - val_accuracy: 0.0206\n",
            "Epoch 30/100\n",
            "825/825 [==============================] - 3s 3ms/step - loss: 0.2043 - accuracy: 0.0212 - val_loss: 0.2151 - val_accuracy: 0.0211\n",
            "Epoch 31/100\n",
            "825/825 [==============================] - 3s 3ms/step - loss: 0.2032 - accuracy: 0.0212 - val_loss: 0.2157 - val_accuracy: 0.0207\n",
            "Epoch 32/100\n",
            "825/825 [==============================] - 3s 3ms/step - loss: 0.2025 - accuracy: 0.0211 - val_loss: 0.2148 - val_accuracy: 0.0208\n",
            "Epoch 33/100\n",
            "825/825 [==============================] - 3s 4ms/step - loss: 0.2020 - accuracy: 0.0210 - val_loss: 0.2133 - val_accuracy: 0.0212\n",
            "Epoch 34/100\n",
            "825/825 [==============================] - 4s 4ms/step - loss: 0.2005 - accuracy: 0.0213 - val_loss: 0.2139 - val_accuracy: 0.0204\n",
            "Epoch 35/100\n",
            "825/825 [==============================] - 3s 4ms/step - loss: 0.2000 - accuracy: 0.0214 - val_loss: 0.2145 - val_accuracy: 0.0206\n",
            "Epoch 36/100\n",
            "825/825 [==============================] - 3s 3ms/step - loss: 0.1978 - accuracy: 0.0213 - val_loss: 0.2142 - val_accuracy: 0.0209\n",
            "Epoch 37/100\n",
            "825/825 [==============================] - 3s 3ms/step - loss: 0.1973 - accuracy: 0.0213 - val_loss: 0.2106 - val_accuracy: 0.0209\n",
            "Epoch 38/100\n",
            "825/825 [==============================] - 3s 3ms/step - loss: 0.1960 - accuracy: 0.0213 - val_loss: 0.2106 - val_accuracy: 0.0211\n",
            "Epoch 39/100\n",
            "825/825 [==============================] - 3s 3ms/step - loss: 0.1965 - accuracy: 0.0215 - val_loss: 0.2093 - val_accuracy: 0.0206\n",
            "Epoch 40/100\n",
            "825/825 [==============================] - 3s 4ms/step - loss: 0.1940 - accuracy: 0.0215 - val_loss: 0.2114 - val_accuracy: 0.0205\n",
            "Epoch 41/100\n",
            "825/825 [==============================] - 3s 4ms/step - loss: 0.1941 - accuracy: 0.0215 - val_loss: 0.2143 - val_accuracy: 0.0209\n",
            "Epoch 42/100\n",
            "825/825 [==============================] - 3s 4ms/step - loss: 0.1928 - accuracy: 0.0214 - val_loss: 0.2158 - val_accuracy: 0.0209\n",
            "Epoch 43/100\n",
            "825/825 [==============================] - 3s 4ms/step - loss: 0.1910 - accuracy: 0.0216 - val_loss: 0.2265 - val_accuracy: 0.0204\n",
            "Epoch 44/100\n",
            "825/825 [==============================] - 3s 3ms/step - loss: 0.1912 - accuracy: 0.0214 - val_loss: 0.2135 - val_accuracy: 0.0203\n",
            "Epoch 45/100\n",
            "825/825 [==============================] - 3s 4ms/step - loss: 0.1899 - accuracy: 0.0213 - val_loss: 0.2087 - val_accuracy: 0.0210\n",
            "Epoch 46/100\n",
            "825/825 [==============================] - 3s 4ms/step - loss: 0.1895 - accuracy: 0.0215 - val_loss: 0.2145 - val_accuracy: 0.0209\n",
            "Epoch 47/100\n",
            "825/825 [==============================] - 3s 3ms/step - loss: 0.1883 - accuracy: 0.0218 - val_loss: 0.2120 - val_accuracy: 0.0202\n",
            "Epoch 48/100\n",
            "825/825 [==============================] - 3s 4ms/step - loss: 0.1871 - accuracy: 0.0217 - val_loss: 0.2126 - val_accuracy: 0.0206\n",
            "Epoch 49/100\n",
            "825/825 [==============================] - 3s 3ms/step - loss: 0.1860 - accuracy: 0.0217 - val_loss: 0.2110 - val_accuracy: 0.0214\n",
            "Epoch 50/100\n",
            "825/825 [==============================] - 3s 4ms/step - loss: 0.1864 - accuracy: 0.0214 - val_loss: 0.2095 - val_accuracy: 0.0210\n",
            "Epoch 51/100\n",
            "825/825 [==============================] - 3s 3ms/step - loss: 0.1853 - accuracy: 0.0217 - val_loss: 0.2140 - val_accuracy: 0.0206\n",
            "Epoch 52/100\n",
            "825/825 [==============================] - 3s 3ms/step - loss: 0.1834 - accuracy: 0.0214 - val_loss: 0.2079 - val_accuracy: 0.0202\n",
            "Epoch 53/100\n",
            "825/825 [==============================] - 3s 3ms/step - loss: 0.1842 - accuracy: 0.0216 - val_loss: 0.2086 - val_accuracy: 0.0204\n",
            "Epoch 54/100\n",
            "825/825 [==============================] - 3s 4ms/step - loss: 0.1830 - accuracy: 0.0217 - val_loss: 0.2116 - val_accuracy: 0.0209\n",
            "Epoch 55/100\n",
            "825/825 [==============================] - 3s 3ms/step - loss: 0.1817 - accuracy: 0.0217 - val_loss: 0.2167 - val_accuracy: 0.0207\n",
            "Epoch 56/100\n",
            "825/825 [==============================] - 3s 3ms/step - loss: 0.1807 - accuracy: 0.0216 - val_loss: 0.2073 - val_accuracy: 0.0206\n",
            "Epoch 57/100\n",
            "825/825 [==============================] - 3s 3ms/step - loss: 0.1800 - accuracy: 0.0218 - val_loss: 0.2100 - val_accuracy: 0.0210\n",
            "Epoch 58/100\n",
            "825/825 [==============================] - 3s 4ms/step - loss: 0.1792 - accuracy: 0.0219 - val_loss: 0.2103 - val_accuracy: 0.0211\n",
            "Epoch 59/100\n",
            "825/825 [==============================] - 3s 4ms/step - loss: 0.1786 - accuracy: 0.0217 - val_loss: 0.2111 - val_accuracy: 0.0212\n",
            "Epoch 60/100\n",
            "825/825 [==============================] - 3s 3ms/step - loss: 0.1777 - accuracy: 0.0216 - val_loss: 0.2072 - val_accuracy: 0.0209\n",
            "Epoch 61/100\n",
            "825/825 [==============================] - 3s 4ms/step - loss: 0.1778 - accuracy: 0.0219 - val_loss: 0.2125 - val_accuracy: 0.0209\n",
            "Epoch 62/100\n",
            "825/825 [==============================] - 3s 4ms/step - loss: 0.1761 - accuracy: 0.0220 - val_loss: 0.2089 - val_accuracy: 0.0209\n",
            "Epoch 63/100\n",
            "825/825 [==============================] - 3s 4ms/step - loss: 0.1754 - accuracy: 0.0217 - val_loss: 0.2117 - val_accuracy: 0.0214\n",
            "Epoch 64/100\n",
            "825/825 [==============================] - 3s 4ms/step - loss: 0.1743 - accuracy: 0.0218 - val_loss: 0.2130 - val_accuracy: 0.0206\n",
            "Epoch 65/100\n",
            "825/825 [==============================] - 3s 3ms/step - loss: 0.1738 - accuracy: 0.0219 - val_loss: 0.2121 - val_accuracy: 0.0214\n",
            "Epoch 66/100\n",
            "825/825 [==============================] - 3s 4ms/step - loss: 0.1736 - accuracy: 0.0220 - val_loss: 0.2079 - val_accuracy: 0.0210\n",
            "Epoch 67/100\n",
            "825/825 [==============================] - 3s 4ms/step - loss: 0.1737 - accuracy: 0.0221 - val_loss: 0.2112 - val_accuracy: 0.0206\n",
            "Epoch 68/100\n",
            "825/825 [==============================] - 3s 3ms/step - loss: 0.1727 - accuracy: 0.0219 - val_loss: 0.2134 - val_accuracy: 0.0209\n",
            "Epoch 69/100\n",
            "825/825 [==============================] - 3s 3ms/step - loss: 0.1714 - accuracy: 0.0222 - val_loss: 0.2165 - val_accuracy: 0.0208\n",
            "Epoch 70/100\n",
            "825/825 [==============================] - 3s 4ms/step - loss: 0.1704 - accuracy: 0.0221 - val_loss: 0.2099 - val_accuracy: 0.0209\n",
            "Epoch 71/100\n",
            "825/825 [==============================] - 3s 3ms/step - loss: 0.1700 - accuracy: 0.0223 - val_loss: 0.2115 - val_accuracy: 0.0209\n",
            "Epoch 72/100\n",
            "825/825 [==============================] - 4s 5ms/step - loss: 0.1695 - accuracy: 0.0222 - val_loss: 0.2081 - val_accuracy: 0.0212\n",
            "Epoch 73/100\n",
            "825/825 [==============================] - 3s 4ms/step - loss: 0.1685 - accuracy: 0.0221 - val_loss: 0.2108 - val_accuracy: 0.0211\n",
            "Epoch 74/100\n",
            "825/825 [==============================] - 3s 4ms/step - loss: 0.1668 - accuracy: 0.0221 - val_loss: 0.2121 - val_accuracy: 0.0209\n",
            "Epoch 75/100\n",
            "825/825 [==============================] - 3s 3ms/step - loss: 0.1670 - accuracy: 0.0222 - val_loss: 0.2152 - val_accuracy: 0.0211\n",
            "Epoch 76/100\n",
            "825/825 [==============================] - 3s 4ms/step - loss: 0.1662 - accuracy: 0.0220 - val_loss: 0.2098 - val_accuracy: 0.0212\n",
            "Epoch 77/100\n",
            "825/825 [==============================] - 3s 3ms/step - loss: 0.1643 - accuracy: 0.0222 - val_loss: 0.2116 - val_accuracy: 0.0209\n",
            "Epoch 78/100\n",
            "825/825 [==============================] - 3s 3ms/step - loss: 0.1646 - accuracy: 0.0223 - val_loss: 0.2156 - val_accuracy: 0.0209\n",
            "Epoch 79/100\n",
            "825/825 [==============================] - 3s 4ms/step - loss: 0.1641 - accuracy: 0.0225 - val_loss: 0.2139 - val_accuracy: 0.0210\n",
            "Epoch 80/100\n",
            "825/825 [==============================] - 3s 3ms/step - loss: 0.1633 - accuracy: 0.0223 - val_loss: 0.2109 - val_accuracy: 0.0204\n",
            "Epoch 81/100\n",
            "825/825 [==============================] - 3s 4ms/step - loss: 0.1619 - accuracy: 0.0223 - val_loss: 0.2106 - val_accuracy: 0.0208\n",
            "Epoch 82/100\n",
            "825/825 [==============================] - 3s 3ms/step - loss: 0.1619 - accuracy: 0.0225 - val_loss: 0.2193 - val_accuracy: 0.0209\n",
            "Epoch 83/100\n",
            "825/825 [==============================] - 3s 4ms/step - loss: 0.1616 - accuracy: 0.0223 - val_loss: 0.2173 - val_accuracy: 0.0205\n",
            "Epoch 84/100\n",
            "825/825 [==============================] - 3s 3ms/step - loss: 0.1627 - accuracy: 0.0222 - val_loss: 0.2176 - val_accuracy: 0.0206\n",
            "Epoch 85/100\n",
            "825/825 [==============================] - 3s 3ms/step - loss: 0.1616 - accuracy: 0.0223 - val_loss: 0.2122 - val_accuracy: 0.0202\n",
            "Epoch 86/100\n",
            "825/825 [==============================] - 3s 3ms/step - loss: 0.1608 - accuracy: 0.0221 - val_loss: 0.2127 - val_accuracy: 0.0209\n",
            "Epoch 87/100\n",
            "825/825 [==============================] - 3s 4ms/step - loss: 0.1580 - accuracy: 0.0224 - val_loss: 0.2178 - val_accuracy: 0.0214\n",
            "Epoch 88/100\n",
            "825/825 [==============================] - 3s 4ms/step - loss: 0.1581 - accuracy: 0.0224 - val_loss: 0.2200 - val_accuracy: 0.0215\n",
            "Epoch 89/100\n",
            "825/825 [==============================] - 3s 4ms/step - loss: 0.1593 - accuracy: 0.0224 - val_loss: 0.2201 - val_accuracy: 0.0212\n",
            "Epoch 90/100\n",
            "825/825 [==============================] - 3s 4ms/step - loss: 0.1573 - accuracy: 0.0225 - val_loss: 0.2140 - val_accuracy: 0.0214\n",
            "Epoch 91/100\n",
            "825/825 [==============================] - 3s 3ms/step - loss: 0.1564 - accuracy: 0.0223 - val_loss: 0.2202 - val_accuracy: 0.0211\n",
            "Epoch 92/100\n",
            "825/825 [==============================] - 3s 3ms/step - loss: 0.1569 - accuracy: 0.0225 - val_loss: 0.2166 - val_accuracy: 0.0210\n",
            "Epoch 93/100\n",
            "825/825 [==============================] - 3s 3ms/step - loss: 0.1581 - accuracy: 0.0227 - val_loss: 0.2222 - val_accuracy: 0.0203\n",
            "Epoch 94/100\n",
            "825/825 [==============================] - 3s 3ms/step - loss: 0.1555 - accuracy: 0.0224 - val_loss: 0.2144 - val_accuracy: 0.0206\n",
            "Epoch 95/100\n",
            "825/825 [==============================] - 3s 4ms/step - loss: 0.1535 - accuracy: 0.0227 - val_loss: 0.2161 - val_accuracy: 0.0208\n",
            "Epoch 96/100\n",
            "825/825 [==============================] - 3s 4ms/step - loss: 0.1554 - accuracy: 0.0227 - val_loss: 0.2201 - val_accuracy: 0.0211\n",
            "Epoch 97/100\n",
            "825/825 [==============================] - 3s 3ms/step - loss: 0.1529 - accuracy: 0.0226 - val_loss: 0.2151 - val_accuracy: 0.0206\n",
            "Epoch 98/100\n",
            "825/825 [==============================] - 3s 3ms/step - loss: 0.1530 - accuracy: 0.0226 - val_loss: 0.2115 - val_accuracy: 0.0212\n",
            "Epoch 99/100\n",
            "825/825 [==============================] - 3s 3ms/step - loss: 0.1523 - accuracy: 0.0230 - val_loss: 0.2175 - val_accuracy: 0.0212\n",
            "Epoch 100/100\n",
            "825/825 [==============================] - 3s 3ms/step - loss: 0.1524 - accuracy: 0.0224 - val_loss: 0.2162 - val_accuracy: 0.0208\n"
          ]
        }
      ],
      "source": [
        "# loss function\n",
        "msle = tf.keras.losses.MeanSquaredLogarithmicError()\n",
        "model.compile(\n",
        "    loss=msle, \n",
        "    optimizer=tf.keras.optimizers.Adam(0.001), \n",
        "    metrics=['accuracy']\n",
        ")\n",
        "# train the model\n",
        "history = model.fit(\n",
        "    X_train, \n",
        "    y_train, \n",
        "    epochs=100, \n",
        "    batch_size=64,\n",
        "    validation_split=0.2\n",
        ")\n"
      ]
    },
    {
      "cell_type": "markdown",
      "source": [
        ""
      ],
      "metadata": {
        "id": "LOxC_XCc68A6"
      }
    },
    {
      "cell_type": "code",
      "execution_count": 17,
      "metadata": {
        "id": "rqc5vTTjyUDN"
      },
      "outputs": [],
      "source": [
        "y_pred=model.predict(X_test)"
      ]
    },
    {
      "cell_type": "code",
      "source": [
        "import sklearn.metrics as metrics\n",
        "r2=metrics.r2_score(y_test,y_pred)\n",
        "print(r2)"
      ],
      "metadata": {
        "colab": {
          "base_uri": "https://localhost:8080/"
        },
        "id": "faVjCEMOwqI4",
        "outputId": "913594e0-3ba7-4a8e-939a-cdc79e804ca2"
      },
      "execution_count": 18,
      "outputs": [
        {
          "output_type": "stream",
          "name": "stdout",
          "text": [
            "0.9230766010654159\n"
          ]
        }
      ]
    },
    {
      "cell_type": "code",
      "source": [
        "from sklearn.metrics import mean_squared_error\n",
        "\n",
        "# Mean Squared Error testing\n",
        "MSE = mean_squared_error(y_test, y_pred)\n",
        "print('MSE:',MSE)\n",
        "\n",
        "# Root Mean Squared Error\n",
        "import math\n",
        "RMSE = math.sqrt(MSE)\n",
        "print('RMSE:',RMSE)"
      ],
      "metadata": {
        "colab": {
          "base_uri": "https://localhost:8080/"
        },
        "id": "g_ha-7bmwsOh",
        "outputId": "40953f8c-8c12-487d-ce01-62d9dbefbd65"
      },
      "execution_count": 19,
      "outputs": [
        {
          "output_type": "stream",
          "name": "stdout",
          "text": [
            "MSE: 60.57435720686589\n",
            "RMSE: 7.782952987579065\n"
          ]
        }
      ]
    }
  ],
  "metadata": {
    "colab": {
      "name": "NeuralWLAN2.ipynb",
      "provenance": []
    },
    "kernelspec": {
      "display_name": "Python 3",
      "name": "python3"
    },
    "language_info": {
      "name": "python"
    },
    "accelerator": "GPU",
    "gpuClass": "standard"
  },
  "nbformat": 4,
  "nbformat_minor": 0
}